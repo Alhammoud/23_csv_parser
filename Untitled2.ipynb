{
  "nbformat": 4,
  "nbformat_minor": 0,
  "metadata": {
    "colab": {
      "provenance": [],
      "authorship_tag": "ABX9TyPVn6AKpsK76SNmFQ8wtmoI",
      "include_colab_link": true
    },
    "kernelspec": {
      "name": "python3",
      "display_name": "Python 3"
    },
    "language_info": {
      "name": "python"
    }
  },
  "cells": [
    {
      "cell_type": "markdown",
      "metadata": {
        "id": "view-in-github",
        "colab_type": "text"
      },
      "source": [
        "<a href=\"https://colab.research.google.com/github/Alhammoud/23_csv_parser/blob/master/Untitled2.ipynb\" target=\"_parent\"><img src=\"https://colab.research.google.com/assets/colab-badge.svg\" alt=\"Open In Colab\"/></a>"
      ]
    },
    {
      "cell_type": "code",
      "execution_count": null,
      "metadata": {
        "colab": {
          "base_uri": "https://localhost:8080/"
        },
        "id": "wnr1NKz7ZbJQ",
        "outputId": "26ce4780-3068-4307-b507-0b8c961d8ec8"
      },
      "outputs": [
        {
          "output_type": "stream",
          "name": "stdout",
          "text": [
            "name : (0, 'Geeks')\n",
            "name : (1, 'for')\n",
            "name : (2, 'Geeks')\n",
            "[(0, 'Geeks'), (1, 'for'), (2, 'Geeks')]\n"
          ]
        }
      ],
      "source": [
        "a = [\"Geeks\", \"for\", \"Geeks\"]\n",
        "\n",
        "# Iterating list using enumerate to get both index and element\n",
        "for name in enumerate(a):\n",
        "    print(f\"name : {name}\")\n",
        "\n",
        "# Converting to a list of tuples\n",
        "print(list(enumerate(a)))"
      ]
    },
    {
      "cell_type": "code",
      "source": [],
      "metadata": {
        "id": "zI-FKpYjZcms"
      },
      "execution_count": null,
      "outputs": []
    }
  ]
}